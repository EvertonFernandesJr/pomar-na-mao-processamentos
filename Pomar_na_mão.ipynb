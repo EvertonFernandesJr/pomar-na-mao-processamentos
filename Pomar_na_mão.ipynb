{
  "nbformat": 4,
  "nbformat_minor": 0,
  "metadata": {
    "colab": {
      "provenance": [],
      "include_colab_link": true
    },
    "kernelspec": {
      "name": "python3",
      "display_name": "Python 3"
    },
    "language_info": {
      "name": "python"
    }
  },
  "cells": [
    {
      "cell_type": "markdown",
      "metadata": {
        "id": "view-in-github",
        "colab_type": "text"
      },
      "source": [
        "<a href=\"https://colab.research.google.com/github/EvertonFernandesJr/pomar-na-mao-processamentos/blob/main/Pomar_na_m%C3%A3o.ipynb\" target=\"_parent\"><img src=\"https://colab.research.google.com/assets/colab-badge.svg\" alt=\"Open In Colab\"/></a>"
      ]
    },
    {
      "cell_type": "code",
      "execution_count": null,
      "metadata": {
        "colab": {
          "base_uri": "https://localhost:8080/"
        },
        "id": "cgSo4vJ300fH",
        "outputId": "1b22a396-562b-4f6f-8886-49b315add27c"
      },
      "outputs": [
        {
          "output_type": "stream",
          "name": "stdout",
          "text": [
            "hello world 1\n",
            "hello world 2\n",
            "hello world 3\n",
            "hello world 4\n",
            "hello world 5\n",
            "hello world 6\n",
            "hello world 7\n",
            "hello world 8\n",
            "hello world 9\n",
            "hello world 10\n",
            "hello world 11\n",
            "hello world 12\n",
            "hello world 13\n",
            "hello world 14\n",
            "hello world 15\n",
            "hello world 16\n",
            "hello world 17\n",
            "hello world 18\n",
            "hello world 19\n",
            "hello world 20\n",
            "hello world 21\n",
            "hello world 22\n",
            "hello world 23\n",
            "hello world 24\n",
            "hello world 25\n",
            "hello world 26\n",
            "hello world 27\n",
            "hello world 28\n",
            "hello world 29\n",
            "hello world 30\n",
            "hello world 31\n",
            "hello world 32\n",
            "hello world 33\n",
            "hello world 34\n",
            "hello world 35\n",
            "hello world 36\n",
            "hello world 37\n",
            "hello world 38\n",
            "hello world 39\n",
            "hello world 40\n",
            "hello world 41\n",
            "hello world 42\n",
            "hello world 43\n",
            "hello world 44\n",
            "hello world 45\n",
            "hello world 46\n",
            "hello world 47\n",
            "hello world 48\n",
            "hello world 49\n",
            "hello world 50\n",
            "hello world 51\n",
            "hello world 52\n",
            "hello world 53\n",
            "hello world 54\n",
            "hello world 55\n",
            "hello world 56\n",
            "hello world 57\n",
            "hello world 58\n",
            "hello world 59\n",
            "hello world 60\n",
            "hello world 61\n",
            "hello world 62\n",
            "hello world 63\n",
            "hello world 64\n",
            "hello world 65\n",
            "hello world 66\n",
            "hello world 67\n",
            "hello world 68\n",
            "hello world 69\n",
            "hello world 70\n",
            "hello world 71\n",
            "hello world 72\n",
            "hello world 73\n",
            "hello world 74\n",
            "hello world 75\n",
            "hello world 76\n",
            "hello world 77\n",
            "hello world 78\n",
            "hello world 79\n",
            "hello world 80\n",
            "hello world 81\n",
            "hello world 82\n",
            "hello world 83\n",
            "hello world 84\n",
            "hello world 85\n",
            "hello world 86\n",
            "hello world 87\n",
            "hello world 88\n",
            "hello world 89\n",
            "hello world 90\n",
            "hello world 91\n",
            "hello world 92\n",
            "hello world 93\n",
            "hello world 94\n",
            "hello world 95\n",
            "hello world 96\n",
            "hello world 97\n",
            "hello world 98\n",
            "hello world 99\n"
          ]
        }
      ],
      "source": [
        "for n in range(1,100):\n",
        "  print('hello world', n)"
      ]
    },
    {
      "cell_type": "code",
      "source": [],
      "metadata": {
        "id": "oIde_-5B1kBl"
      },
      "execution_count": null,
      "outputs": []
    },
    {
      "cell_type": "code",
      "source": [],
      "metadata": {
        "id": "S5quHubQ1lWD"
      },
      "execution_count": null,
      "outputs": []
    }
  ]
}