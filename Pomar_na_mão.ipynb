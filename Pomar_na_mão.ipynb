{
  "nbformat": 4,
  "nbformat_minor": 0,
  "metadata": {
    "colab": {
      "provenance": [],
      "include_colab_link": true
    },
    "kernelspec": {
      "name": "python3",
      "display_name": "Python 3"
    },
    "language_info": {
      "name": "python"
    }
  },
  "cells": [
    {
      "cell_type": "markdown",
      "metadata": {
        "id": "view-in-github",
        "colab_type": "text"
      },
      "source": [
        "<a href=\"https://colab.research.google.com/github/EvertonFernandesJr/pomar-na-mao-processamentos/blob/main/Pomar_na_m%C3%A3o.ipynb\" target=\"_parent\"><img src=\"https://colab.research.google.com/assets/colab-badge.svg\" alt=\"Open In Colab\"/></a>"
      ]
    },
    {
      "cell_type": "code",
      "source": [],
      "metadata": {
        "id": "IJC7WRHpSjLk"
      },
      "execution_count": null,
      "outputs": []
    },
    {
      "cell_type": "code",
      "source": [],
      "metadata": {
        "id": "KIeqbIFHx7up"
      },
      "execution_count": null,
      "outputs": []
    },
    {
      "cell_type": "code",
      "source": [
        "import os\n",
        "import xml.etree.ElementTree as ET\n",
        "import csv\n",
        "import uuid\n",
        "from datetime import datetime\n",
        "import pytz\n",
        "\n",
        "def kml_to_csv(folder_path: str, file: str):\n",
        "    ns = {'kml': 'http://www.opengis.net/kml/2.2'}\n",
        "    filename = file.split('.')[0]\n",
        "    file_ext = file.split('.')[-1]\n",
        "\n",
        "    if file_ext == 'kml':\n",
        "        csv_filename = os.path.splitext(filename)[0] + '.csv'\n",
        "        csv_path = os.path.join(folder_path, csv_filename)\n",
        "\n",
        "        try:\n",
        "            tree = ET.parse(file)\n",
        "            root = tree.getroot()\n",
        "            placemarks = root.findall(\".//kml:Placemark\", ns)\n",
        "\n",
        "            with open(csv_path, 'w', newline='', encoding='utf-8') as csvfile:\n",
        "                writer = csv.writer(csvfile)\n",
        "\n",
        "                writer.writerow([\n",
        "                    'id', 'created_at', 'longitude', 'latitude', 'gps_timestamp',\n",
        "                    'mass', 'harvest', 'description', 'planting_date', 'user_id',\n",
        "                    'life_of_the_tree', 'stick', 'broken_branch', 'vine_growing',\n",
        "                    'burnt_branch', 'struck_by_lightning', 'drill', 'anthill',\n",
        "                    'in_experiment', 'weeds_in_the_basin',\n",
        "                    'fertilization_or_manuring', 'mites', 'thrips',\n",
        "                    'empty_collection_box_near', 'variety', 'region'\n",
        "                ])\n",
        "\n",
        "                for pm in placemarks:\n",
        "                    name = pm.find('kml:name', ns)\n",
        "                    coords = pm.find('.//kml:coordinates', ns)\n",
        "\n",
        "                    if coords is not None:\n",
        "                        coord_text = coords.text.strip()\n",
        "                        lon, lat, *_ = coord_text.split(',')\n",
        "                        zona = name.text[-1]\n",
        "                        if name.text[-1].islower():\n",
        "                          zona = 'FEAGRI'\n",
        "\n",
        "\n",
        "                        now = datetime.now(pytz.UTC)\n",
        "\n",
        "                        writer.writerow([\n",
        "                            str(uuid.uuid4()),\n",
        "                            now.strftime('%Y-%m-%d %H:%M:%S.') + f'{int(now.microsecond / 10000):02d}+00',\n",
        "                            lon.strip(),\n",
        "                            lat.strip(),\n",
        "                            1748620471648,\n",
        "                            100,\n",
        "                            '2024',\n",
        "                            name.text if name is not None else '',\n",
        "                            now.strftime('%Y-%m-%d %H:%M:%S.') + f'{int(now.microsecond / 10000):02d}+00',\n",
        "                            '680d9ad3-4069-4118-884d-505d18ad553c',\n",
        "                            'Primeira',\n",
        "                            False, False, False, False, False,\n",
        "                            False, False, False, False, False,\n",
        "                            False, False, False,\n",
        "                            'Clássica (Bengal)',\n",
        "                            zona\n",
        "                        ])\n",
        "\n",
        "            print(f\"✔ Saved: {csv_filename}\")\n",
        "\n",
        "        except Exception as e:\n",
        "            print(f\"❌ Failed to process {filename}: {e}\")\n",
        "\n",
        "    else:\n",
        "        print(f\"❌ Invalid file extension: {file_ext}\")\n",
        "\n",
        "# Exemplo de uso:\n",
        "kml_to_csv('/content/', 'Arvores.kml')\n"
      ],
      "metadata": {
        "id": "oIde_-5B1kBl",
        "colab": {
          "base_uri": "https://localhost:8080/"
        },
        "outputId": "35181242-1fdf-4062-e5bd-2b0edac0cc9c"
      },
      "execution_count": null,
      "outputs": [
        {
          "output_type": "stream",
          "name": "stdout",
          "text": [
            "✔ Saved: Zonas.csv\n"
          ]
        }
      ]
    },
    {
      "cell_type": "code",
      "source": [],
      "metadata": {
        "id": "S5quHubQ1lWD"
      },
      "execution_count": null,
      "outputs": []
    }
  ]
}